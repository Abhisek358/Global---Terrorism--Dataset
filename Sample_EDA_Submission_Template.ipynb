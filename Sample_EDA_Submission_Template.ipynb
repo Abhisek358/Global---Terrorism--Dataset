{
  "nbformat": 4,
  "nbformat_minor": 0,
  "metadata": {
    "colab": {
      "private_outputs": true,
      "provenance": [],
      "collapsed_sections": [
        "w6K7xa23Elo4",
        "PH-0ReGfmX4f",
        "mDgbUHAGgjLW",
        "8G2x9gOozGDZ",
        "gIfDvo9L0UH2"
      ],
      "include_colab_link": true
    },
    "kernelspec": {
      "name": "python3",
      "display_name": "Python 3"
    },
    "language_info": {
      "name": "python"
    }
  },
  "cells": [
    {
      "cell_type": "markdown",
      "metadata": {
        "id": "view-in-github",
        "colab_type": "text"
      },
      "source": [
        "<a href=\"https://colab.research.google.com/github/Abhisek358/Global---Terrorism--Dataset/blob/main/Sample_EDA_Submission_Template.ipynb\" target=\"_parent\"><img src=\"https://colab.research.google.com/assets/colab-badge.svg\" alt=\"Open In Colab\"/></a>"
      ]
    },
    {
      "cell_type": "markdown",
      "source": [
        "# **Project Name**    -\n",
        "\n",
        "## ***Global Terrorism Dataset***\n",
        "\n"
      ],
      "metadata": {
        "id": "vncDsAP0Gaoa"
      }
    },
    {
      "cell_type": "markdown",
      "source": [
        "##### **Project Type**    - EDA\n",
        "##### **Contribution**    - Team\n",
        "##### **Team Member 1 -**Abhisek Swain\n",
        "##### **Team Member 2 -**Aditya Raj\n",
        "##### **Team Member 3 -**Lucky Saxsena\n",
        "##### **Team Member 4 -**Swarup Sunil Mane\n",
        "##### **Team Member 5 -**Talari Venkatesh"
      ],
      "metadata": {
        "id": "beRrZCGUAJYm"
      }
    },
    {
      "cell_type": "markdown",
      "source": [
        "# **Project Summary -**"
      ],
      "metadata": {
        "id": "FJNUwmbgGyua"
      }
    },
    {
      "cell_type": "markdown",
      "source": [
        "The \"Exploring and Analyzing Global Terrorism Trends\" project delves into the vast and comprehensive Global Terrorism Database (GTD) spanning from 1970 to 2017. This open-source repository, meticulously curated by the National Consortium for the Study of Terrorism and Responses to Terrorism (START) at the University of Maryland, contains a staggering record of over 180,000 terrorist incidents worldwide. The project's primary objective is to extract invaluable insights, patterns, and trends from this extensive dataset to enhance our understanding of global terrorism and contribute to better counter-terrorism strategies."
      ],
      "metadata": {
        "id": "F6v_1wHtG2nS"
      }
    },
    {
      "cell_type": "markdown",
      "source": [
        "# **GitHub Link -**"
      ],
      "metadata": {
        "id": "w6K7xa23Elo4"
      }
    },
    {
      "cell_type": "markdown",
      "source": [
        "# **Problem Statement**\n"
      ],
      "metadata": {
        "id": "yQaldy8SH6Dl"
      }
    },
    {
      "cell_type": "markdown",
      "source": [
        "Using exploratory data analysis(EDA) techniques on the GTD, identify the hot zones of terrorism globally and discern the evolving patterns of terrorist activities. What insights related to security issues can be derived from this analysis that colud be instrumental in shaping counter-terrorism strategies?"
      ],
      "metadata": {
        "id": "DpeJGUA3kjGy"
      }
    },
    {
      "cell_type": "markdown",
      "source": [
        "#### **Define Your Business Objective?**"
      ],
      "metadata": {
        "id": "PH-0ReGfmX4f"
      }
    },
    {
      "cell_type": "markdown",
      "source": [
        "The business objective is to leverage the GTD's data to extract actionable insights that support efforts to counter terrorism comprehensively, efficiently, and effectively, ultimately contributing to improved security and safety on a global scale."
      ],
      "metadata": {
        "id": "PhDvGCAqmjP1"
      }
    },
    {
      "cell_type": "markdown",
      "source": [
        "# **General Guidelines** : -  "
      ],
      "metadata": {
        "id": "mDgbUHAGgjLW"
      }
    },
    {
      "cell_type": "markdown",
      "source": [
        "1.   Well-structured, formatted, and commented code is required.\n",
        "2.   Exception Handling, Production Grade Code & Deployment Ready Code will be a plus. Those students will be awarded some additional credits.\n",
        "     \n",
        "     The additional credits will have advantages over other students during Star Student selection.\n",
        "       \n",
        "             [ Note: - Deployment Ready Code is defined as, the whole .ipynb notebook should be executable in one go\n",
        "                       without a single error logged. ]\n",
        "\n",
        "3.   Each and every logic should have proper comments.\n",
        "4. You may add as many number of charts you want. Make Sure for each and every chart the following format should be answered.\n",
        "        \n",
        "\n",
        "```\n",
        "# Chart visualization code\n",
        "```\n",
        "            \n",
        "\n",
        "*   Why did you pick the specific chart?\n",
        "*   What is/are the insight(s) found from the chart?\n",
        "* Will the gained insights help creating a positive business impact?\n",
        "Are there any insights that lead to negative growth? Justify with specific reason.\n",
        "\n",
        "5. You have to create at least 20 logical & meaningful charts having important insights.\n",
        "\n",
        "\n",
        "[ Hints : - Do the Vizualization in  a structured way while following \"UBM\" Rule.\n",
        "\n",
        "U - Univariate Analysis,\n",
        "\n",
        "B - Bivariate Analysis (Numerical - Categorical, Numerical - Numerical, Categorical - Categorical)\n",
        "\n",
        "M - Multivariate Analysis\n",
        " ]\n",
        "\n",
        "\n",
        "\n"
      ],
      "metadata": {
        "id": "ZrxVaUj-hHfC"
      }
    },
    {
      "cell_type": "markdown",
      "source": [
        "# ***Let's Begin !***"
      ],
      "metadata": {
        "id": "O_i_v8NEhb9l"
      }
    },
    {
      "cell_type": "markdown",
      "source": [
        "## ***1. Know Your Data***"
      ],
      "metadata": {
        "id": "HhfV-JJviCcP"
      }
    },
    {
      "cell_type": "markdown",
      "source": [
        "### Import Libraries"
      ],
      "metadata": {
        "id": "Y3lxredqlCYt"
      }
    },
    {
      "cell_type": "code",
      "source": [
        "# Import Libraries\n",
        "import numpy as np\n",
        "import pandas as pd\n",
        "import matplotlib.pyplot as plt\n",
        "import seaborn as sns\n",
        "import plotly.express as px\n",
        "import statsmodels.api as sm"
      ],
      "metadata": {
        "id": "M8Vqi-pPk-HR"
      },
      "execution_count": null,
      "outputs": []
    },
    {
      "cell_type": "markdown",
      "source": [
        "### Dataset Loading"
      ],
      "metadata": {
        "id": "3RnN4peoiCZX"
      }
    },
    {
      "cell_type": "code",
      "source": [
        "# Load Dataset\n",
        "from google.colab import drive\n",
        "drive.mount('/content/drive')\n",
        "df=pd.read_csv('/content/drive/MyDrive/Global Terrorism Data.csv',encoding='latin-1')"
      ],
      "metadata": {
        "id": "4CkvbW_SlZ_R"
      },
      "execution_count": null,
      "outputs": []
    },
    {
      "cell_type": "markdown",
      "source": [
        "### Dataset First View"
      ],
      "metadata": {
        "id": "x71ZqKXriCWQ"
      }
    },
    {
      "cell_type": "code",
      "source": [
        "# Dataset First Look\n",
        "df.head()"
      ],
      "metadata": {
        "id": "LWNFOSvLl09H"
      },
      "execution_count": null,
      "outputs": []
    },
    {
      "cell_type": "markdown",
      "source": [
        "### Dataset Rows & Columns count"
      ],
      "metadata": {
        "id": "7hBIi_osiCS2"
      }
    },
    {
      "cell_type": "code",
      "source": [
        "# Dataset Rows & Columns count\n",
        "rows,cols = df.shape\n",
        "print(f'There are {rows} rows and {cols} columns in the dataset')"
      ],
      "metadata": {
        "id": "Kllu7SJgmLij"
      },
      "execution_count": null,
      "outputs": []
    },
    {
      "cell_type": "markdown",
      "source": [
        "### Dataset Information"
      ],
      "metadata": {
        "id": "JlHwYmJAmNHm"
      }
    },
    {
      "cell_type": "code",
      "source": [
        "# Dataset Info\n",
        "df.info()"
      ],
      "metadata": {
        "id": "e9hRXRi6meOf"
      },
      "execution_count": null,
      "outputs": []
    },
    {
      "cell_type": "markdown",
      "source": [
        "#### Duplicate Values"
      ],
      "metadata": {
        "id": "35m5QtbWiB9F"
      }
    },
    {
      "cell_type": "code",
      "source": [
        "# Dataset Duplicate Value Count\n",
        "duplicate_rows = df.duplicated().sum()\n",
        "print(f'There are {duplicate_rows} duplicate_rows in dataset')"
      ],
      "metadata": {
        "id": "1sLdpKYkmox0"
      },
      "execution_count": null,
      "outputs": []
    },
    {
      "cell_type": "markdown",
      "source": [
        " Missing Values/Null Values"
      ],
      "metadata": {
        "id": "PoPl-ycgm1ru"
      }
    },
    {
      "cell_type": "code",
      "source": [
        "# Missing Values/Null Values Count\n",
        "nan_count=df.isnull().sum()\n",
        "#i just want to check how many columns have missing values\n",
        "missing_values=nan_count[nan_count>0]\n",
        "missing_values"
      ],
      "metadata": {
        "id": "GgHWkxvamxVg"
      },
      "execution_count": null,
      "outputs": []
    },
    {
      "cell_type": "code",
      "source": [
        "# Visualizing the missing values\n",
        "plt.figure(figsize=(14,6))\n",
        "sns.heatmap(df.isnull(), cbar=False)\n",
        "plt.title('Missing Values Heatmap')\n",
        "plt.show()"
      ],
      "metadata": {
        "id": "3q5wnI3om9sJ"
      },
      "execution_count": null,
      "outputs": []
    },
    {
      "cell_type": "markdown",
      "source": [
        "### What did you know about your dataset?"
      ],
      "metadata": {
        "id": "H0kj-8xxnORC"
      }
    },
    {
      "cell_type": "markdown",
      "source": [
        "Dataset Size : The dataset is quite large, containing 181,691 entries or rows.\n",
        "\n",
        "Feature Quantity : The dataset contains 135 features or columns.\n",
        "\n",
        "Data Types : The dataset has a mix data types. There are 55 features with floating point numbers(float64),22 features with intigers(int64),and 58 features with objects(objesct). The object datatype in pandas typically means the column contains string(text) data.\n",
        "\n",
        "Memory Usage : The dataset uses over 187.1 MB memory.\n",
        "\n",
        "Missing Values: There are some columns with a large number of missing values.For example,the'approxdate' column has 172,452 missing values and the'related' column has 156,653 missing values."
      ],
      "metadata": {
        "id": "gfoNAAC-nUe_"
      }
    },
    {
      "cell_type": "markdown",
      "source": [
        "## ***2. Understanding Your Variables***"
      ],
      "metadata": {
        "id": "nA9Y7ga8ng1Z"
      }
    },
    {
      "cell_type": "code",
      "source": [
        "# Dataset Columns\n",
        "columns = df.columns\n",
        "print(\"columns in the dataset\")\n",
        "for column in columns:\n",
        "  print(column)"
      ],
      "metadata": {
        "id": "j7xfkqrt5Ag5"
      },
      "execution_count": null,
      "outputs": []
    },
    {
      "cell_type": "code",
      "source": [
        "# Dataset Describe\n",
        "df.describe(include='all')"
      ],
      "metadata": {
        "id": "DnOaZdaE5Q5t"
      },
      "execution_count": null,
      "outputs": []
    },
    {
      "cell_type": "code",
      "source": [
        "#  Renaming the column for clarity and consistency\n",
        "# We are renaming the 'old_column_name' to 'new_column_name' to improve data interpretability\n",
        "df.rename(columns={'iyear':'Year','imonth':'Month','iday':\"day\",'gname':'Group','country_txt':'Country','region_txt':'Region','provstate':'State','city':'City','latitude':'latitude',\n",
        "    'longitude':'longitude','summary':'summary','attacktype1_txt':'Attacktype','targtype1_txt':'Targettype','weaptype1_txt':'Weapon','nkill':'kill',\n",
        "     'nwound':'Wound'},inplace=True)"
      ],
      "metadata": {
        "id": "YAuOr4AILgWV"
      },
      "execution_count": null,
      "outputs": []
    },
    {
      "cell_type": "markdown",
      "source": [
        "### Variables Description"
      ],
      "metadata": {
        "id": "PBTbrJXOngz2"
      }
    },
    {
      "cell_type": "markdown",
      "source": [
        "Year: The year in which the incident occurred.\n",
        "\n",
        "Month: The month in which the incident occurred.\n",
        "\n",
        "Day: The day of the month when the incident.\n",
        "\n",
        "Country: The country where the incident took place.\n",
        "\n",
        "State: The state or province within the country.\n",
        "\n",
        "Region: The geographical region of the incident.\n",
        "\n",
        "City: The city where the incident occurred.\n",
        "\n",
        "Latitude: The latitude coordinate of the incident location.\n",
        "\n",
        "Longitude: The longitude coordinate of the incident location.\n",
        "\n",
        "Attacktype: The type of attack (Assassination, Bombing/Explosion).\n",
        "\n",
        "Kill: The number of people killed in the incident.\n",
        "\n",
        "Wound: The number of people wounded in the incident.\n",
        "\n",
        "Target1: A description of the primary target of the attack.\n",
        "\n",
        "Summary: A brief summary or description of the incident.\n",
        "\n",
        "Group: The group responsible for the attack.\n",
        "\n",
        "Targettype: The type of target that was attacked (Government, Military).\n",
        "\n",
        "Weapon: The weapon or method used in the attack (Explosives, Firearms).\n",
        "\n",
        "Motive: The suspected motive or reason behind the attack.\n",
        "\n",
        "INT_LOG: A variable indicating whether the incident was part of international logistics (0 for no, 1 for yes,-9 for Uknown).\n",
        "\n",
        "INT_IDEO: A variable indicating whether the incident was part of international ideology (0 for no, 1 for yes,-9 for Unknown).\n",
        "\n",
        "Success: A binary variable indicating the success of the attack (0 for unsuccessful, 1 for successful).\n",
        "\n",
        "Individual: A binary variable indicating if the attack was carried out by an individual (0 for no, 1 for yes).\n",
        "\n",
        "Multiple: A binary variable indicating if multiple individuals or groups were involved in the attack (0 for no, 1 for yes).\n",
        "\n",
        "Dbsource: The source of the data.\n",
        "\n",
        "Nkillter: The number of terrorists killed in the incident."
      ],
      "metadata": {
        "id": "tMWAiSCKL6Cs"
      }
    },
    {
      "cell_type": "markdown",
      "source": [
        "### Check Unique Values for each variable."
      ],
      "metadata": {
        "id": "u3PMJOP6ngxN"
      }
    },
    {
      "cell_type": "code",
      "source": [
        "# Check Unique Values for each variable.\n",
        "for i in df.columns.tolist():\n",
        "  print(\"No. of unique values in \",i,\"is\",df[i].nunique(),\".\")"
      ],
      "metadata": {
        "id": "zms12Yq5n-jE"
      },
      "execution_count": null,
      "outputs": []
    },
    {
      "cell_type": "markdown",
      "source": [
        "## 3. ***Data Wrangling***"
      ],
      "metadata": {
        "id": "dauF4eBmngu3"
      }
    },
    {
      "cell_type": "markdown",
      "source": [
        "### Data Wrangling Code"
      ],
      "metadata": {
        "id": "bKJF3rekwFvQ"
      }
    },
    {
      "cell_type": "code",
      "source": [
        "# Write your code to make your dataset analysis ready.\n",
        "# NaN percentage in each and every columnn of the dataset\n",
        "nan_percentage=(nan_count/len(df))*100\n",
        "nan_percentage"
      ],
      "metadata": {
        "id": "wk-9a2fpoLcV"
      },
      "execution_count": null,
      "outputs": []
    },
    {
      "cell_type": "code",
      "source": [
        "# Identify columns with a high percentage of missing values (>= 50%)\n",
        "column_with_high_nan=nan_percentage[nan_percentage>=50]\n",
        "#Iterate through columns with a high percentage of missing values\n",
        "# and print the column names along with their missing value percentage\n",
        "for key,values in column_with_high_nan.items():\n",
        "  print(key,values) # These are the list of columns with high missing values\n",
        "print(len(column_with_high_nan))"
      ],
      "metadata": {
        "id": "SPFS8w5SM3a4"
      },
      "execution_count": null,
      "outputs": []
    },
    {
      "cell_type": "code",
      "source": [
        "#Identify columns with a  missing values (< 50%)\n",
        "missing_values_less_then_50=nan_percentage[nan_percentage<50]\n",
        "print(missing_values_less_then_50)\n",
        "print(len(missing_values_less_then_50))#these are the columns which has missing vlaue less then 50"
      ],
      "metadata": {
        "id": "1aC8b7HsM_pu"
      },
      "execution_count": null,
      "outputs": []
    },
    {
      "cell_type": "code",
      "source": [
        "#Selecting columns with less missing data and that are relevant for analysis\n",
        "df1=df[['Year','Month','day','Country','State','Region','City','latitude','longitude',\"Attacktype\",'kill','Wound','target1','summary','Group','Targettype','Weapon','motive','INT_LOG','INT_IDEO','success','individual','multiple','dbsource','nkillter']]"
      ],
      "metadata": {
        "id": "Dr7NiPrvNF9y"
      },
      "execution_count": null,
      "outputs": []
    },
    {
      "cell_type": "code",
      "source": [
        "df1.head()"
      ],
      "metadata": {
        "id": "A2lWCRLYNL-l"
      },
      "execution_count": null,
      "outputs": []
    },
    {
      "cell_type": "code",
      "source": [
        "df1.columns"
      ],
      "metadata": {
        "id": "FRkYzdZ_2K4X"
      },
      "execution_count": null,
      "outputs": []
    },
    {
      "cell_type": "code",
      "source": [
        "# Total sum of missing value in our selecting columns in new dataframe\n",
        "df1.isnull().sum()"
      ],
      "metadata": {
        "id": "3V0bMe9W2NNf"
      },
      "execution_count": null,
      "outputs": []
    },
    {
      "cell_type": "code",
      "source": [
        "#Describing the new dtaframe\n",
        "df1.describe()"
      ],
      "metadata": {
        "id": "C7JURE0y2Utk"
      },
      "execution_count": null,
      "outputs": []
    },
    {
      "cell_type": "code",
      "source": [
        "#identify the columns which has missing value grater the 0\n",
        "df1.isnull().sum()[df1.isnull().sum()>0]"
      ],
      "metadata": {
        "id": "wyY69Hx-2dAO"
      },
      "execution_count": null,
      "outputs": []
    },
    {
      "cell_type": "code",
      "source": [
        "# Handling missing values of the 'kill' column\n",
        "df1['kill'].isna().sum()"
      ],
      "metadata": {
        "id": "JGoTfoqe2hqs"
      },
      "execution_count": null,
      "outputs": []
    },
    {
      "cell_type": "code",
      "source": [
        "#Drawing the QQ plot to check the df['kill'] is normally distribuated or not\n",
        "sm.qqplot(df1['kill'], line='s')\n",
        "plt.title(\"Q-Q Plot\")\n",
        "plt.show()"
      ],
      "metadata": {
        "id": "x75FqwFd3Mjt"
      },
      "execution_count": null,
      "outputs": []
    },
    {
      "cell_type": "markdown",
      "source": [
        "**This** **Graph**  **clearly** **indicates** **that** **the** **data** **is** n**ot normally Distribuated**"
      ],
      "metadata": {
        "id": "s3GQjnlvKUmU"
      }
    },
    {
      "cell_type": "code",
      "source": [
        "# Handling missing values in the 'kill' column by replacing them with zeros\n",
        "df1['kill'].fillna(0,inplace=True)\n",
        "#This code snippet converts the 'kill' column values to integers after cleaning.\n",
        "df1['kill'] = df1['kill'].apply(lambda x: int(float(pd.to_numeric(x, errors='coerce'))))"
      ],
      "metadata": {
        "id": "WYFxRfP24Qj7"
      },
      "execution_count": null,
      "outputs": []
    },
    {
      "cell_type": "markdown",
      "source": [
        " filling missing values in the \"kill\" column that aligns with the distribution of the data. Given that the majority of values are zero (0th to 50th percentiles),mean of the column is 2.4 and the standard deviation(11.54) is relatively high, a reasonable choice could be to fill missing values with the median, which is 0."
      ],
      "metadata": {
        "id": "fndcLAZwJddn"
      }
    },
    {
      "cell_type": "code",
      "source": [
        "# Handling missing values in the 'Wound' column\n",
        "df1['Wound'].isna().sum()"
      ],
      "metadata": {
        "id": "HU3epOaw4hzM"
      },
      "execution_count": null,
      "outputs": []
    },
    {
      "cell_type": "code",
      "source": [
        "# Handling missing values in the 'wound' column by replacing them with zeros\n",
        "df1['Wound'].fillna(0,inplace=True)\n",
        "#This code snippet converts the 'wound' column values to integers after cleaning.\n",
        "df1['Wound'] = df1['Wound'].apply(lambda x: int(float(pd.to_numeric(x, errors='coerce'))))"
      ],
      "metadata": {
        "id": "SOX0lSdt4qus"
      },
      "execution_count": null,
      "outputs": []
    },
    {
      "cell_type": "markdown",
      "source": [
        " filling missing values in the \"wound\" column that aligns with the distribution of the data. Given that the majority of values are zero (0th to 50th percentiles) mean is 3.16 and the standard deviation(35.94) is relatively high, a reasonable choice could be to fill missing values with the median, which is 0"
      ],
      "metadata": {
        "id": "XJnoCmekN-mX"
      }
    },
    {
      "cell_type": "code",
      "source": [
        "#  Handling missing values in the 'nkillter' column by replacing them with zeros\n",
        "df1['nkillter'].fillna(0,inplace=True)"
      ],
      "metadata": {
        "id": "5x4D3acq5HOP"
      },
      "execution_count": null,
      "outputs": []
    },
    {
      "cell_type": "code",
      "source": [
        "# Handling missing values in the 'multiple' column by replacing them with 1\n",
        "df['multiple'].fillna(0,inplace=True)"
      ],
      "metadata": {
        "id": "FUfj4HO6JNFI"
      },
      "execution_count": null,
      "outputs": []
    },
    {
      "cell_type": "markdown",
      "source": [
        "multiple column has only one misssing vlaue this column has binary value which is 0,1 fill  missing value either with 0 or 1\\"
      ],
      "metadata": {
        "id": "QZOqjKM1WEJX"
      }
    },
    {
      "cell_type": "code",
      "source": [
        "# Handling missing values in the city,target1 and state  columns\n",
        "print(df1['City'].isna().sum())\n",
        "print(df1['State'].isna().sum())\n",
        "print(df1['target1'].isna().sum())"
      ],
      "metadata": {
        "id": "T4b8swUqP8-2"
      },
      "execution_count": null,
      "outputs": []
    },
    {
      "cell_type": "code",
      "source": [
        "# Counting the number of records where 'City' is labeled as 'Unknown'\n",
        "print(len(df1[df1['City']=='Unknown']))\n",
        "# Counting the number of records where 'State' is labeled as 'Unknown'\n",
        "print(len(df1[df1['State']=='Unknown']))\n",
        "# Counting the number of records where 'target1' is labeled as 'Unknown'\n",
        "print(len(df1[df1['target1']=='Unknown']))"
      ],
      "metadata": {
        "id": "GnG6zDrcSUxI"
      },
      "execution_count": null,
      "outputs": []
    },
    {
      "cell_type": "code",
      "source": [
        "# Handling missing values in the city,target1 and state  columns and replacing the missing value with 'Unknown'\n",
        "df1.fillna(value={'City':'Unknown', 'target1': 'Unknown','State':'Unknown'}, inplace=True)"
      ],
      "metadata": {
        "id": "Yu6eMZ2DTpt2"
      },
      "execution_count": null,
      "outputs": []
    },
    {
      "cell_type": "markdown",
      "source": [
        "replasing missing values in the columns 'City', 'State', and 'target1' with the value 'Unknown' because  this value appears frequently in those columns."
      ],
      "metadata": {
        "id": "_q4LukMDUMDS"
      }
    },
    {
      "cell_type": "markdown",
      "source": [
        "### What all manipulations have you done and insights you found?"
      ],
      "metadata": {
        "id": "MSa1f5Uengrz"
      }
    },
    {
      "cell_type": "markdown",
      "source": [
        "All manipulations we have done yet.\n",
        "\n",
        "Handling Missing Values:\n",
        "\n",
        "Missing values in the 'kill' column were replaced with zeros. The 'kill' column values were converted to integers after cleaning. Missing values in the 'Wound' column were replaced with zeros. The 'Wound' column values were converted to integers after cleaning. Missing values in the 'nkillter' column were replaced with zeros. Missing values in the 'multiple' column were replaced with zeros. Missing values in the 'City,' 'target1,' and 'State' columns were addressed. Counting Unknown Values:\n",
        "\n",
        "The number of records where 'City' is labeled as 'Unknown' was counted. The number of records where 'State' is labeled as 'Unknown' was counted. The number of records where 'target1' is labeled as 'Unknown' was counted. Handling Missing Values in 'City,' 'target1,' and 'State' Columns:\n",
        "\n",
        "Missing values in the 'City,' 'target1,' and 'State' columns were replaced with 'Unknown.'"
      ],
      "metadata": {
        "id": "vgNCcM8uHDQt"
      }
    },
    {
      "cell_type": "markdown",
      "source": [
        "## ***4. Data Vizualization, Storytelling & Experimenting with charts : Understand the relationships between variables***"
      ],
      "metadata": {
        "id": "GF8Ens_Soomf"
      }
    },
    {
      "cell_type": "markdown",
      "source": [
        "#### Chart - 1"
      ],
      "metadata": {
        "id": "0wOQAZs5pc--"
      }
    },
    {
      "cell_type": "code",
      "source": [
        "# Chart - 1 visualization code\n",
        "#data disteribution\n",
        "# this represent the distribution of data on each series in the dataframe\n",
        "# Create histograms to visualize the distribution of data for each series in the DataFrame\n",
        "df1.hist(figsize=(20,10))"
      ],
      "metadata": {
        "id": "FxgpxzJzs9nP"
      },
      "execution_count": null,
      "outputs": []
    },
    {
      "cell_type": "markdown",
      "source": [
        "##### 1. Why did you pick the specific chart?"
      ],
      "metadata": {
        "id": "K5QZ13OEpz2H"
      }
    },
    {
      "cell_type": "markdown",
      "source": [
        "Histograms were chosen as the specific chart because they are a suitable choice for visualizing the distribution of numeric data. They display how data is distributed across different value ranges, making it easy to identify patterns, central tendencies, and any skewness in the data.\n",
        "\n"
      ],
      "metadata": {
        "id": "ViZE7anlIa6X"
      }
    },
    {
      "cell_type": "markdown",
      "source": [
        "##### 2. What is/are the insight(s) found from the chart?"
      ],
      "metadata": {
        "id": "lQ7QKXXCp7Bj"
      }
    },
    {
      "cell_type": "markdown",
      "source": [
        "The insights that can be derived from histograms include:\n",
        "\n",
        "Central Tendency: You can identify the central value (mean, median) of each variable by looking at the peak of the histogram.\n",
        "\n",
        "1. Spread: The width of the histogram gives an idea of the spread or variability of the data.             \n",
        "2. Skewness: The shape of the histogram (symmetrical or skewed) indicates the distribution's skewness (positive or negative).                   \n",
        "3. Outliers: Extreme values or outliers can be observed as values that fall far from the bulk of the data.\n",
        "\n"
      ],
      "metadata": {
        "id": "C_j1G7yiqdRP"
      }
    },
    {
      "cell_type": "markdown",
      "source": [
        "##### 3. Will the gained insights help creating a positive business impact?\n",
        "Are there any insights that lead to negative growth? Justify with specific reason."
      ],
      "metadata": {
        "id": "448CDAPjqfQr"
      }
    },
    {
      "cell_type": "markdown",
      "source": [
        "#Positive business impact\n",
        "The insights gained from the histograms can be valuable for various business decisions:\n",
        "\n",
        "Understanding the distribution of sales, customer demographics, or any other relevant data can inform marketing strategies.\n",
        "Detecting outliers can help identify potential issues in quality control or fraud detection.\n",
        "Identifying central tendencies can guide pricing or inventory decisions.\n",
        "Ultimately, the positive business impact depends on the specific context and how these insights are applied.\n",
        "#Negative Business impact\n",
        "Histograms themselves don't lead to negative growth; instead, they reveal information that can be used to prevent or address potential negative outcomes. For example:\n",
        "\n",
        "If the histogram reveals a skewed distribution of customer satisfaction scores, indicating many dissatisfied customers, it can be a warning sign of negative growth. Action can then be taken to improve customer satisfaction and prevent further decline.\n",
        "\n"
      ],
      "metadata": {
        "id": "3cspy4FjqxJW"
      }
    },
    {
      "cell_type": "markdown",
      "source": [
        "#### Chart - 2"
      ],
      "metadata": {
        "id": "KSlN3yHqYklG"
      }
    },
    {
      "cell_type": "code",
      "source": [
        "# Chart - 2 visualization\n",
        "#idetify years with a higher frequency of attacks?\n",
        "# Get unique years from the 'Year' column\n",
        "year=df['Year'].unique()\n",
        "# Count the number of occurrences of each year and reset the index to create a DataFrame\n",
        "year_count=df['Year'].value_counts().reset_index()\n",
        "# Rename the columns for clarity\n",
        "year_count=year_count.rename(columns={'index':'year','Year':'value'})\n",
        "# Create a bar plot to visualize the number of attacks per year\n",
        "plt.figure(figsize=(12, 8))\n",
        "sns.barplot(x='year',y='value',data=year_count)    # Create the bar plot\n",
        "# Add labels and a title to the plot for clarity\n",
        "plt.xlabel('year')  # X-axis label\n",
        "plt.ylabel('count') # Y-axis label\n",
        "plt.title('per year attack')\n",
        "# Rotate the X-axis labels for better readability\n",
        "plt.xticks(rotation=90)\n",
        "plt.show()\n"
      ],
      "metadata": {
        "id": "atXZbWqJJqtW"
      },
      "execution_count": null,
      "outputs": []
    },
    {
      "cell_type": "markdown",
      "source": [
        "##### 1. Why did you pick the specific chart?"
      ],
      "metadata": {
        "id": "t6dVpIINYklI"
      }
    },
    {
      "cell_type": "markdown",
      "source": [
        "A bar chart (specifically a barplot) was chosen as the specific chart because it is effective at displaying the frequency or count of discrete categories, in this case, the number of terrorist attacks per year. Bar charts are particularly suitable when you want to compare and visualize data across different categories or groups."
      ],
      "metadata": {
        "id": "5aaW0BYyYklI"
      }
    },
    {
      "cell_type": "markdown",
      "source": [
        "##### 2. What is/are the insight(s) found from the chart?"
      ],
      "metadata": {
        "id": "ijmpgYnKYklI"
      }
    },
    {
      "cell_type": "markdown",
      "source": [
        "The insights that can be derived from the bar chart of the number of terrorist attacks per year include:\n",
        "\n",
        "Trends Over Time: By looking at the bars, you can identify trends in the number of attacks over the years. For example, you can see whether there are any significant increases or decreases in attacks over time.\n",
        "\n",
        "Key Years: It's easy to spot years with exceptionally high or low numbers of attacks.\n",
        "Periodic Patterns: If there are recurring patterns in the data (e.g., spikes in certain years), those patterns become apparent."
      ],
      "metadata": {
        "id": "PSx9atu2YklI"
      }
    },
    {
      "cell_type": "markdown",
      "source": [
        "##### 3. Will the gained insights help creating a positive business impact?\n",
        "Are there any insights that lead to negative growth? Justify with specific reason."
      ],
      "metadata": {
        "id": "-JiQyfWJYklI"
      }
    },
    {
      "cell_type": "markdown",
      "source": [
        "## Positive Business Impact:\n",
        "\n",
        "The insights gained from this chart can be valuable for various purposes:\n",
        "\n",
        "Risk Assessment: Organizations, governments, or security agencies can use this information to assess the security situation and allocate resources accordingly.\n",
        "\n",
        "Policy Decisions: Governments may use this data to formulate policies to counter terrorism or address specific issues in high-impact years.\n",
        "Resource Allocation: Businesses operating in regions affected by terrorism can use this data for risk assessment and resource allocation.\n",
        "The positive impact depends on how the insights are applied and the specific goals of the organization or government.\n",
        "\n",
        "## Negative Business Impact:\n",
        "\n",
        "The bar chart itself doesn't indicate negative growth, but it can reveal negative trends or alarming patterns. For example:\n",
        "\n",
        "If the chart shows a consistent upward trend in the number of attacks, it may signal a worsening security situation, potentially leading to negative growth in affected regions or industries.\n",
        "If specific years have disproportionately high numbers of attacks, it\n",
        "could indicate negative impacts on local economies and stability.\n",
        "Negative growth would be a result of the underlying security issues highlighted by the chart rather than the chart itself."
      ],
      "metadata": {
        "id": "BcBbebzrYklV"
      }
    },
    {
      "cell_type": "markdown",
      "source": [
        "#### Chart - 3"
      ],
      "metadata": {
        "id": "EM7whBJCYoAo"
      }
    },
    {
      "cell_type": "code",
      "source": [
        "# Chart - 3 visualization code\n",
        "# Create a cross-tabulation of the 'Year' and 'Region' columns and then plot it as a stacked area plot\n",
        "# This shows the number of terrorist attacks by region over the years\n",
        "pd.crosstab(df1.Year, df1.Region).plot(kind='area',stacked=True,figsize=(20,10))\n",
        "plt.ylabel('No:of Attacks',fontsize=25)  # Y-axis label\n",
        "plt.xlabel(\"Years\",fontsize=25)          # Y-axis label\n",
        "plt.title('Terrorist Activities (Region) In Each Year',fontsize=30) # Title of the plot\n",
        "plt.show()"
      ],
      "metadata": {
        "id": "t6GMdE67YoAp"
      },
      "execution_count": null,
      "outputs": []
    },
    {
      "cell_type": "markdown",
      "source": [
        "##### 1. Why did you pick the specific chart?"
      ],
      "metadata": {
        "id": "fge-S5ZAYoAp"
      }
    },
    {
      "cell_type": "markdown",
      "source": [
        "The specific chart, a stacked area chart, was chosen because it effectively visualizes the temporal trends and distribution of terrorist activities across regions over multiple years, allowing for easy comparison and understanding of regional contributions to the total number of attacks."
      ],
      "metadata": {
        "id": "5dBItgRVYoAp"
      }
    },
    {
      "cell_type": "markdown",
      "source": [
        "##### 2. What is/are the insight(s) found from the chart?"
      ],
      "metadata": {
        "id": "85gYPyotYoAp"
      }
    },
    {
      "cell_type": "markdown",
      "source": [
        "From the provided stacked area chart titled \"Terrorist Activities (Region) In Each Year,\" we can gain the following insights:\n",
        "\n",
        "1. **Temporal Trends**: The chart illustrates how the total number of terrorist attacks has evolved over the years. It allows us to identify periods of increased or decreased activity.\n",
        "\n",
        "2. **Regional Contributions**: Each colored segment in the stacked area represents a specific region's contribution to the total number of attacks in a given year. This provides insights into which regions have the highest and lowest levels of terrorist activity.\n",
        "\n",
        "3. **Changes in Dominant Regions**: Over time, the chart reveals whether certain regions consistently dominate in terms of attacks or if there are shifts in which regions are most active.\n",
        "\n",
        "4. **Periods of Stability and Instability**: By examining the fluctuations in the stacked areas, it's possible to identify periods of stability and instability in different regions or overall.\n",
        "\n",
        "5. **Comparison of Regions**: The chart allows for easy visual comparison between regions, making it clear which regions have a significant impact on the overall trend.\n",
        "\n",
        "Overall, this chart provides a comprehensive view of how terrorist activities are distributed across regions and how they change over time. It aids in understanding historical patterns, identifying regions of concern, and potentially informing security and policy decisions. Specific insights will depend on the data within the \"df1\" DataFrame and the context of the analysis."
      ],
      "metadata": {
        "id": "4jstXR6OYoAp"
      }
    },
    {
      "cell_type": "markdown",
      "source": [
        "##### 3. Will the gained insights help creating a positive business impact?\n",
        "Are there any insights that lead to negative growth? Justify with specific reason."
      ],
      "metadata": {
        "id": "RoGjAbkUYoAp"
      }
    },
    {
      "cell_type": "markdown",
      "source": [
        "The insights from the chart may have limited direct impact on businesses but can influence strategic decisions and risk management:\n",
        "\n",
        "## Positive Business Impact:\n",
        "\n",
        "Risk Mitigation: Businesses operating in regions with higher attacks can use insights to bolster security measures, potentially reducing the likelihood of security incidents.\n",
        "\n",
        "Informed Expansion: For businesses considering expansion, understanding regional trends can aid in making informed decisions about entering or avoiding specific markets.\n",
        "\n",
        "## Negative Business Impact:\n",
        "\n",
        "Operational Challenges: Regions with consistent attacks may entail higher operational costs due to increased security measures, insurance premiums, and potential disruptions.\n",
        "\n",
        "Market Instability: Operating in high-risk regions can lead to market instability, potentially hindering growth and long-term profitability.\n",
        "\n",
        "In essence, while the insights can support risk management, they also pose challenges for businesses in terms of costs, stability, and reputation. Balancing opportunities with risks is essential for making informed decisions and potentially mitigating negative growth."
      ],
      "metadata": {
        "id": "zfJ8IqMcYoAp"
      }
    },
    {
      "cell_type": "markdown",
      "source": [
        "#### Chart - 4"
      ],
      "metadata": {
        "id": "4Of9eVA-YrdM"
      }
    },
    {
      "cell_type": "code",
      "source": [
        "# Chart - 4 visualization code\n",
        "# Count the occurrences of each country in the 'Country' column,\n",
        "# then reset the index and take the top 10 most frequent countries\n",
        "country_count=df1[['Country']].value_counts().reset_index().head(10)\n",
        "country_count\n",
        "country_count =country_count.rename(columns={0: 'Values'})\n",
        "country_count\n",
        "plt.figure(figsize=(10, 6))\n",
        "sns.barplot(x='Country', y='Values', data=country_count)\n",
        "plt.xlabel('Country') # X-axis label\n",
        "plt.ylabel('Values') # y-axis label\n",
        "plt.title('Most Attack Country')\n",
        "plt.xticks(rotation=50)\n",
        "plt.show()"
      ],
      "metadata": {
        "id": "irlUoxc8YrdO"
      },
      "execution_count": null,
      "outputs": []
    },
    {
      "cell_type": "markdown",
      "source": [
        "##### 1. Why did you pick the specific chart?"
      ],
      "metadata": {
        "id": "iky9q4vBYrdO"
      }
    },
    {
      "cell_type": "markdown",
      "source": [
        "I chose a bar chart to visualize the top 10 most frequent countries in the 'Country' column because it is an effective way to represent the frequency of occurrences for each country in a clear and straightforward manner."
      ],
      "metadata": {
        "id": "aJRCwT6DYrdO"
      }
    },
    {
      "cell_type": "markdown",
      "source": [
        "##### 2. What is/are the insight(s) found from the chart?"
      ],
      "metadata": {
        "id": "F6T5p64dYrdO"
      }
    },
    {
      "cell_type": "markdown",
      "source": [
        "Insights from the chart we can under stand following.\n",
        "\n",
        "Most Frequent Countries: The chart shows the top 10 countries with the highest number of recorded terrorist attacks. This provides a quick overview of which countries are most affected by terrorism according to the dataset.\n",
        "\n",
        "Comparison: You can easily compare the frequency of attacks in these top 10 countries, identifying the countries with the highest and lowest occurrences.\n",
        "\n",
        "Distribution: It highlights the distribution of attacks across these countries, emphasizing which ones are significantly more affected than others.\n",
        "\n",
        "Outliers: The chart can also help identify any outliers or countries with exceptionally high numbers of attacks, which may require special attention in terms of risk assessment and mitigation."
      ],
      "metadata": {
        "id": "Xx8WAJvtYrdO"
      }
    },
    {
      "cell_type": "markdown",
      "source": [
        "##### 3. Will the gained insights help creating a positive business impact?\n",
        "Are there any insights that lead to negative growth? Justify with specific reason."
      ],
      "metadata": {
        "id": "y-Ehk30pYrdP"
      }
    },
    {
      "cell_type": "markdown",
      "source": [
        "The insights from this chart are unlikely to directly create a positive business impact as they pertain to terrorist activities. However, they can be valuable for security and risk assessment, which indirectly impacts businesses by helping them mitigate potential risks and ensure the safety of their operations and assets. Negative growth can occur if businesses operate in regions with high terrorism-related risks, which may lead to increased costs, operational disruptions, and reputational damage."
      ],
      "metadata": {
        "id": "jLNxxz7MYrdP"
      }
    },
    {
      "cell_type": "markdown",
      "source": [
        "#### Chart - 5"
      ],
      "metadata": {
        "id": "bamQiAODYuh1"
      }
    },
    {
      "cell_type": "code",
      "source": [
        "# Chart - 5 visualization code\n",
        "iraq_data = df1[df1['Country'] == 'Iraq']\n",
        "\n",
        "#Group the data by terrorist group and count the incidents\n",
        "group_counts = iraq_data['Group'].value_counts()\n",
        "\n",
        "# Find the group with the highest activity\n",
        "most_active_group = group_counts.idxmax()\n",
        "print(f\"The most active terrorist group in Iraq is {most_active_group} with {group_counts.max()} incidents.\")\n",
        "\n",
        "# Create a DataFrame for the most active group in Iraq\n",
        "active_group_in_country = iraq_data[iraq_data['Group'] == most_active_group]\n",
        "\n",
        "#  Create a scatter plot\n",
        "plt.figure(figsize=(10, 6))\n",
        "plt.scatter(active_group_in_country['longitude'], active_group_in_country['latitude'], s=20, alpha=0.5)\n",
        "plt.xlabel('Longitude') # X-axis label\n",
        "plt.ylabel('Latitude')  # y-axis label\n",
        "plt.title(f'Scatter Plot of Incidents for {most_active_group} in Iraq')\n",
        "plt.grid(True)\n",
        "\n",
        "plt.show()\n",
        "\n",
        "print(f\"The most active terrorist group is: {most_active_group}\")\n",
        "print(f\"The country with the highest activity for this group is: Iraq\")\n"
      ],
      "metadata": {
        "id": "wRKaznfHRY3p"
      },
      "execution_count": null,
      "outputs": []
    },
    {
      "cell_type": "code",
      "source": [
        "iraq_data = df1[df1['Country'] == 'Iraq']\n",
        "\n",
        "# Filter out incidents with \"unknown\" group\n",
        "iraq_data = iraq_data[iraq_data['Group'] != 'Unknown']\n",
        "\n",
        "# Group the data by terrorist group and count the incidents\n",
        "group_counts = iraq_data['Group'].value_counts()\n",
        "\n",
        "# Find the group with the highest activity\n",
        "most_active_group = group_counts.idxmax()\n",
        "print(f\"The most active terrorist group in Iraq is {most_active_group} with {group_counts.max()} incidents.\")\n",
        "\n",
        "# Create a DataFrame for the most active group in Iraq\n",
        "active_group_in_country = iraq_data[iraq_data['Group'] == most_active_group]\n",
        "\n",
        "# Create a scatter plot\n",
        "plt.figure(figsize=(10, 6))\n",
        "plt.scatter(active_group_in_country['longitude'], active_group_in_country['latitude'], s=20, alpha=0.5)\n",
        "plt.xlabel('Longitude')  # X-axis label\n",
        "plt.ylabel('Latitude')   # Y-axis label\n",
        "plt.title(f'Scatter Plot of Incidents for {most_active_group} in Iraq')\n",
        "plt.grid(True)\n",
        "\n",
        "plt.show()\n",
        "\n",
        "print(f\"The most active terrorist group is: {most_active_group}\")\n",
        "print(f\"The country with the highest activity for this group is: Iraq\")"
      ],
      "metadata": {
        "id": "k74yAiDlRipP"
      },
      "execution_count": null,
      "outputs": []
    },
    {
      "cell_type": "markdown",
      "source": [
        "##### 1. Why did you pick the specific chart?"
      ],
      "metadata": {
        "id": "QHF8YVU7Yuh3"
      }
    },
    {
      "cell_type": "markdown",
      "source": [
        "I chose a scatter plot to visualize the geographic distribution of terrorist incidents attributed to the most active terrorist group in Iraq. Here's why I selected this specific chart:\n",
        "\n",
        "Geographic Insights: A scatter plot is a suitable choice when you want to visualize the geographic distribution of data points, in this case, the locations of terrorist incidents. It helps us understand where these incidents are concentrated."
      ],
      "metadata": {
        "id": "dcxuIMRPYuh3"
      }
    },
    {
      "cell_type": "markdown",
      "source": [
        "##### 2. What is/are the insight(s) found from the chart?"
      ],
      "metadata": {
        "id": "GwzvFGzlYuh3"
      }
    },
    {
      "cell_type": "markdown",
      "source": [
        "Insights from the chart:\n",
        "\n",
        "Geographic Concentration: The scatter plot shows the locations (latitude and longitude) of terrorist incidents attributed to the most active terrorist group in Iraq. It allows us to see if these incidents are concentrated in specific regions or dispersed across the country.\n",
        "\n",
        "Hotspots: By observing clusters or patterns in the plot, you can identify potential hotspots of terrorist activity. These insights can be valuable for security assessments and decision-making.\n",
        "\n",
        "ISIL done most number of Attacks in Iraq"
      ],
      "metadata": {
        "id": "uyqkiB8YYuh3"
      }
    },
    {
      "cell_type": "markdown",
      "source": [
        "##### 3. Will the gained insights help creating a positive business impact?\n",
        "Are there any insights that lead to negative growth? Justify with specific reason."
      ],
      "metadata": {
        "id": "qYpmQ266Yuh3"
      }
    },
    {
      "cell_type": "markdown",
      "source": [
        "The gained insights might not necessarily lead to a positive business impact but can be crucial for security and risk management:\n",
        "\n",
        "## Positive Impact:\n",
        "\n",
        "Businesses operating in Iraq or nearby regions can use this information to assess security risks and implement appropriate security measures to protect their personnel and assets.\n",
        "\n",
        "## Negative Growth:\n",
        "\n",
        "The presence of a highly active terrorist group in a region can lead to negative growth due to increased security costs, potential disruptions to operations, and reputational risks.\n",
        "\n",
        "It's crucial for businesses to be aware of such security challenges and have risk mitigation strategies in place to address potential negative impacts.\n",
        "\n",
        "In summary, while the insights from the scatter plot may not directly result in positive business growth, they are essential for risk assessment and security planning, which are critical for maintaining stability and minimizing negative impacts in regions affected by terrorism."
      ],
      "metadata": {
        "id": "_WtzZ_hCYuh4"
      }
    },
    {
      "cell_type": "markdown",
      "source": [
        "#### Chart - 6"
      ],
      "metadata": {
        "id": "OH-pJp9IphqM"
      }
    },
    {
      "cell_type": "code",
      "source": [
        "# Chart - 6 visualization code\n",
        "# Identifying the Most Active Terrorist Groups in the World\n",
        "##df1['Group'].value_counts() counts the occurrences of each unique terrorist group.\n",
        "most_active_group=df1['Group'].value_counts().reset_index().head(11)\n",
        "most_active_group=most_active_group.rename(columns={'index': 'Group','Group':'values'})\n",
        "#Droping the first row of the dataframe most_active_group\n",
        "#most_active_group.drop(0) this code wiil drop the first row from the dataframe\n",
        "most_active_group= most_active_group.drop(0)\n",
        "most_active_group.reset_index(drop=True,inplace=True)\n",
        "#idetify the most active group\n",
        "plt.figure(figsize=(12,6))\n",
        "sns.barplot(x='Group',y='values',data=most_active_group)\n",
        "plt.xlabel('Terrorist Group')\n",
        "plt.ylabel('Number of Attack Attempt')\n",
        "plt.xticks(rotation=90)\n",
        "\n",
        "plt.title('Most active Group')"
      ],
      "metadata": {
        "id": "kuRf4wtuphqN"
      },
      "execution_count": null,
      "outputs": []
    },
    {
      "cell_type": "markdown",
      "source": [
        "##### 1. Why did you pick the specific chart?"
      ],
      "metadata": {
        "id": "bbFf2-_FphqN"
      }
    },
    {
      "cell_type": "markdown",
      "source": [
        "A bar chart is a suitable choice for visualizing the number of attack attempts by different terrorist groups because it allows for easy comparison between groups. Each bar represents a terrorist group, and the height of the bar corresponds to the number of attack attempts, making it straightforward to identify which groups are the most active.Answer Here."
      ],
      "metadata": {
        "id": "loh7H2nzphqN"
      }
    },
    {
      "cell_type": "markdown",
      "source": [
        "##### 2. What is/are the insight(s) found from the chart?"
      ],
      "metadata": {
        "id": "_ouA3fa0phqN"
      }
    },
    {
      "cell_type": "markdown",
      "source": [
        "he chart provides insights into the most active terrorist groups in the world based on the number of attack attempts. By examining the chart, you can quickly identify the top 10 most active groups, as they are represented by the highest bars.\n",
        "\n",
        "Taliban: With 7,478 recorded attack attempts, the Taliban is the most active terrorist group during the analyzed period Islamic State of Iraq and the Levant (ISIL): ISIL ranks second in activity, with 5,613 recorded attack attempts. Shining Path (SL): The Shining Path group is among the top three most active groups, with 4,555 recorded attack attempts"
      ],
      "metadata": {
        "id": "VECbqPI7phqN"
      }
    },
    {
      "cell_type": "markdown",
      "source": [
        "##### 3. Will the gained insights help creating a positive business impact?\n",
        "Are there any insights that lead to negative growth? Justify with specific reason."
      ],
      "metadata": {
        "id": "Seke61FWphqN"
      }
    },
    {
      "cell_type": "markdown",
      "source": [
        "## Positive Business Impact:\n",
        "\n",
        "However, for most businesses, this specific information may not directly lead to positive business impact but could be valuable for broader geopolitical analysis and risk assessment.\n",
        "\n",
        "## Neagative Business Impact:\n",
        "\n",
        "While the chart provides insights into the most active terrorist groups, it doesn't directly indicate negative"
      ],
      "metadata": {
        "id": "DW4_bGpfphqN"
      }
    },
    {
      "cell_type": "markdown",
      "source": [
        "#### Chart - 7"
      ],
      "metadata": {
        "id": "PIIx-8_IphqN"
      }
    },
    {
      "cell_type": "code",
      "source": [
        "# Chart - 7 visualization code\n",
        "#which group has killed the most people in attack\n",
        "df2=df1.groupby(['Group'])[['kill','Wound']].sum().sort_values(by='kill',ascending=False).reset_index().head(10)\n",
        "df2 = df2.drop(0)\n",
        "plt.figure(figsize=(15,10))\n",
        "sns.barplot(x='Group',y='kill',data=df2)\n",
        "plt.xlabel('Group name')\n",
        "plt.ylabel('Kill')\n",
        "plt.title('Group which killed hieghest people')\n",
        "plt.xticks(rotation=75)\n",
        "plt.show()"
      ],
      "metadata": {
        "id": "lqAIGUfyphqO"
      },
      "execution_count": null,
      "outputs": []
    },
    {
      "cell_type": "markdown",
      "source": [
        "##### 1. Why did you pick the specific chart?"
      ],
      "metadata": {
        "id": "t27r6nlMphqO"
      }
    },
    {
      "cell_type": "markdown",
      "source": [
        "I chose a bar chart to visualize the terrorist groups responsible for the highest number of fatalities in attacks. Here's why I selected this specific chart:\n",
        "\n",
        "   1.\n",
        "Comparison: A bar chart is effective for comparing the number of fatalities caused by different terrorist groups. It allows for a clear visual comparison between groups."
      ],
      "metadata": {
        "id": "iv6ro40sphqO"
      }
    },
    {
      "cell_type": "markdown",
      "source": [
        "##### 2. What is/are the insight(s) found from the chart?"
      ],
      "metadata": {
        "id": "r2jJGEOYphqO"
      }
    },
    {
      "cell_type": "markdown",
      "source": [
        "Insights from the chart:\n",
        "\n",
        "ISIL is the most dangerous terrorist group with killing highest number of people Tailban and Boko-Hram on rank secound and Third in our chart if this group give threats then counter terrorism agency need to take it seriously"
      ],
      "metadata": {
        "id": "Po6ZPi4hphqO"
      }
    },
    {
      "cell_type": "markdown",
      "source": [
        "##### 3. Will the gained insights help creating a positive business impact?\n",
        "Are there any insights that lead to negative growth? Justify with specific reason."
      ],
      "metadata": {
        "id": "b0JNsNcRphqO"
      }
    },
    {
      "cell_type": "markdown",
      "source": [
        "The gained insights might not necessarily lead to a positive business impact, but they are crucial for risk assessment and security planning:\n",
        "\n",
        "## Positive Impact:\n",
        "Businesses operating in regions affected by these high-fatality terrorist groups can use this information to better understand the security landscape and develop strategies to mitigate risks.\n",
        "\n",
        "## Negative Growth:\n",
        "\n",
        "The presence of such deadly terrorist groups can lead to negative growth due to increased security costs, potential disruptions to operations, and reputational risks.\n",
        "Failure to address the threat posed by these groups could result in severe consequences, including harm to personnel and damage to assets.\n",
        "In summary, the insights from the bar chart are essential for understanding the impact of terrorist groups and are critical for risk assessment and security planning. Businesses operating in regions where these groups are active should use this information to inform their security strategies and risk management efforts.\n",
        "\n"
      ],
      "metadata": {
        "id": "xvSq8iUTphqO"
      }
    },
    {
      "cell_type": "markdown",
      "source": [
        "#### Chart - 8"
      ],
      "metadata": {
        "id": "BZR9WyysphqO"
      }
    },
    {
      "cell_type": "code",
      "source": [
        "# Chart - 8 visualization code\n",
        "#identify the most common used weapon in Terrorism\n",
        "#autopct='%1.1f%%' it shows the percentage in pie chart\n",
        "df1.value_counts('Weapon').head().plot(kind='pie',figsize=(10,6),autopct='%1.1f%%')"
      ],
      "metadata": {
        "id": "TdPTWpAVphqO"
      },
      "execution_count": null,
      "outputs": []
    },
    {
      "cell_type": "markdown",
      "source": [
        "##### 1. Why did you pick the specific chart?"
      ],
      "metadata": {
        "id": "jj7wYXLtphqO"
      }
    },
    {
      "cell_type": "markdown",
      "source": [
        "1.Clear Comparison: A pie chart provides a clear and concise way to compare the proportions of different categories (in this case, weapon types). It allows viewers to easily see the relative distribution of each category at a glance.\n",
        "\n",
        "2.Percentage Representation: Pie charts represent data as percentages of the whole, making it straightforward to understand the proportion of each weapon type in relation to the total number of incidents."
      ],
      "metadata": {
        "id": "Ob8u6rCTphqO"
      }
    },
    {
      "cell_type": "markdown",
      "source": [
        "##### 2. What is/are the insight(s) found from the chart?"
      ],
      "metadata": {
        "id": "eZrbJ2SmphqO"
      }
    },
    {
      "cell_type": "markdown",
      "source": [
        "Insights:\n",
        "\n",
        "1. Dominance of Explosives: The most striking insight is that explosives are the most commonly used weapon type around 51% in terrorist incidents\n",
        "\n",
        "2. Significant Use of Firearms: Firearms are the second most frequently used weapon category around 32% although they are notably smaller in proportion compared to explosives.\n",
        "\n",
        "3. Use of Unknown Weapons: The presence of an \"Unknown\" category highlights the challenge of identifying the specific weapon type in some incidents. This emphasizes the importance of improving data accuracy and intelligence in counter-terrorism efforts.\n",
        "\n",
        "4. Incendiary Devices and Melee Weapons: Incendiary devices and melee weapons represent smaller but still significant portions of the chart. This indicates that these weapon types are used in a notable number of incidents."
      ],
      "metadata": {
        "id": "mZtgC_hjphqO"
      }
    },
    {
      "cell_type": "markdown",
      "source": [
        "##### 3. Will the gained insights help creating a positive business impact?\n",
        "Are there any insights that lead to negative growth? Justify with specific reason."
      ],
      "metadata": {
        "id": "rFu4xreNphqO"
      }
    },
    {
      "cell_type": "markdown",
      "source": [
        "## Positive Business Impcts:\n",
        "\n",
        "1. Security Service Providers: Companies that offer security services, including those specializing in explosives detection, firearm security, and threat assessment, may see increased demand for their expertise and solutions.\n",
        "Intelligence Gathering: Counter-terrorism departments must gather intelligence on terrorist organizations, their tactics, and their access to different weapon types. This information helps in understanding potential threats and planning counter-measures.\n",
        "2. Explosives Detection: Invest in advanced explosives detection technology and equipment to identify and neutralize explosive threats. This includes bomb-sniffing dogs, X-ray scanners, and chemical detectors. I4. ncendiary Device Detection: Develop capabilities for detecting and neutralizing incendiary devices, particularly in public places where fires can cause significant damage.\n",
        "\n",
        "## Negative Impact:\n",
        "1. Disruption of Operations: Acts of terrorism involving weapons, such as bombings or shootings, can disrupt business operations. This disruption may result in physical damage to facilities, loss of productivity, and supply chain interruptions.\n",
        "2.Tourism Downturn: Regions affected by violent conflicts or terrorism often experience a decline in tourism. This can negatively impact businesses in the tourism and hospitality sectors, including hotels, restaurants, and entertainment venues."
      ],
      "metadata": {
        "id": "ey_0qi68phqO"
      }
    },
    {
      "cell_type": "markdown",
      "source": [
        "#### Chart - 9"
      ],
      "metadata": {
        "id": "YJ55k-q6phqO"
      }
    },
    {
      "cell_type": "code",
      "source": [
        "# Chart - 9 visualization code\n",
        "# What is the most common target type,and percentage\n",
        "df1.value_counts('Targettype').head().plot(kind='pie',figsize=(10,8),autopct='%1.1f%%')"
      ],
      "metadata": {
        "id": "B2aS4O1ophqO"
      },
      "execution_count": null,
      "outputs": []
    },
    {
      "cell_type": "code",
      "source": [],
      "metadata": {
        "id": "SiUc6i-IeB-x"
      },
      "execution_count": null,
      "outputs": []
    },
    {
      "cell_type": "markdown",
      "source": [
        "##### 1. Why did you pick the specific chart?"
      ],
      "metadata": {
        "id": "gCFgpxoyphqP"
      }
    },
    {
      "cell_type": "markdown",
      "source": [
        "I chose a pie chart to visualize the distribution of the most common target types because it's a suitable choice for representing the composition of a categorical variable (in this case, different target types) and showing the percentage distribution of each category."
      ],
      "metadata": {
        "id": "TVxDimi2phqP"
      }
    },
    {
      "cell_type": "markdown",
      "source": [
        "##### 2. What is/are the insight(s) found from the chart?"
      ],
      "metadata": {
        "id": "OVtJsKN_phqQ"
      }
    },
    {
      "cell_type": "markdown",
      "source": [
        "Insights:\n",
        "\n",
        "1. Private Citizens & Property Predominance: The most significant insight is that attacks on private citizens and property constitute the largest share around 31% of terrorist incidents. This suggests that terrorists often target civilians and civilian infrastructure.\n",
        "\n",
        "2. Military and Police Attacks: Military and police targets also account for a substantial portion of terrorist attacks. This highlights the vulnerability of security forces and their involvement in counter-terrorism efforts.\n",
        "\n",
        "3. Government and Business Targets: Government (General) and Business targets follow closely in terms of attack frequency."
      ],
      "metadata": {
        "id": "ngGi97qjphqQ"
      }
    },
    {
      "cell_type": "markdown",
      "source": [
        "##### 3. Will the gained insights help creating a positive business impact?\n",
        "Are there any insights that lead to negative growth? Justify with specific reason."
      ],
      "metadata": {
        "id": "lssrdh5qphqQ"
      }
    },
    {
      "cell_type": "markdown",
      "source": [
        "The gained insights can help inform decision-making and risk assessment:\n",
        "\n",
        "## Positive Impact:\n",
        "1. Businesses, government agencies, and organizations can use this information to assess the risk to specific target types and allocate resources for security and risk management accordingly.\n",
        "\n",
        "2. For businesses operating in regions with a high incidence of attacks on specific target types, these insights can inform security measures and contingency plans.\n",
        "\n",
        "## Negative Growth:\n",
        "\n",
        "1. Depending on the nature of the business, attacks on certain target types may pose higher risks. For example, if a business operates in a sector frequently targeted by terrorists, it may experience negative growth due to security concerns, increased costs, and potential disruptions.\n",
        "\n",
        "In summary, the insights gained from the pie chart can be valuable for assessing the prevalence of different target types in terrorist attacks. These insights can be used to inform security and risk management strategies, potentially mitigating negative impacts on businesses and organizations operating in regions with specific target type vulnerabilities.\n",
        "\n"
      ],
      "metadata": {
        "id": "tBpY5ekJphqQ"
      }
    },
    {
      "cell_type": "markdown",
      "source": [
        "#### Chart - 10"
      ],
      "metadata": {
        "id": "U2RJ9gkRphqQ"
      }
    },
    {
      "cell_type": "code",
      "source": [
        "# Chart - 10 visualization\n",
        "num_attack_df1 = df1.groupby('Year').size()\n",
        "num_attack_df1.name = \"number of attacks\"\n",
        "num_attack_df1.head()\n",
        "#We group terrorist attacks by year and the number of persons killed\n",
        "terroristtrends = df1.groupby('Year').agg({'kill':'sum','Wound':'sum'})\n",
        "terroristtrends = pd.concat([terroristtrends,num_attack_df1],axis=1)\n",
        "terroristtrends.head()\n",
        "# Let's create a new column composed by dead and wounded persons by year named victims\n",
        "terroristtrends['victims']=terroristtrends['kill']+terroristtrends['Wound']\n",
        "fig = px.line(terroristtrends,x=terroristtrends.index, y='victims', title='Terrorist attacks trends',template='plotly_dark')\n",
        "fig.data[0].name=\"number of victims\"\n",
        "fig.update_traces(showlegend=True)\n",
        "fig.add_scatter(x = terroristtrends.index, y = terroristtrends['number of attacks'], mode ='lines',name='number of attacks')\n",
        "\n",
        "\n",
        "fig.update_layout(xaxis_title='Year',yaxis_title='Terrorism Trends')\n",
        "fig.show()\n",
        "\n"
      ],
      "metadata": {
        "id": "GM7a4YP4phqQ"
      },
      "execution_count": null,
      "outputs": []
    },
    {
      "cell_type": "markdown",
      "source": [
        "##### 1. Why did you pick the specific chart?"
      ],
      "metadata": {
        "id": "1M8mcRywphqQ"
      }
    },
    {
      "cell_type": "markdown",
      "source": [
        "The specific chart chosen is a line chart that visualizes the trends in terrorist attacks and the number of victims (combined fatalities and wounded individuals) from 1970 to 2017."
      ],
      "metadata": {
        "id": "8agQvks0phqQ"
      }
    },
    {
      "cell_type": "markdown",
      "source": [
        "##### 2. What is/are the insight(s) found from the chart?"
      ],
      "metadata": {
        "id": "tgIPom80phqQ"
      }
    },
    {
      "cell_type": "markdown",
      "source": [
        "Insights\n",
        "\n",
        "1. Overall Increase in Attacks: The chart reveals that the total number of terrorist attacks has generally increased over the years, particularly from the mid-2000s onwards. This suggests a rising trend in global terrorism incidents.\n",
        "\n",
        "2. Fluctuations in Victims: The line representing the number of victims (combining those killed and wounded) from 1970 to 2017 most number of victim of Terrorism are bw the years 2012 to 2017 ,the years 2014 experienced more lethal attacks.\n",
        "3. Correlation between Attacks and Victims: There appears to be a correlation between the number of attacks and the number of victims. When the number of attacks increases, the number of victims also tends to rise."
      ],
      "metadata": {
        "id": "Qp13pnNzphqQ"
      }
    },
    {
      "cell_type": "markdown",
      "source": [
        "##### 3. Will the gained insights help creating a positive business impact?\n",
        "Are there any insights that lead to negative growth? Justify with specific reason."
      ],
      "metadata": {
        "id": "JMzcOPDDphqR"
      }
    },
    {
      "cell_type": "markdown",
      "source": [
        "The gained insights can be valuable for various purposes, including security, risk assessment, and policy development:\n",
        "\n",
        "## Positive Impact:\n",
        "1. Businesses and organizations operating in regions or industries prone to terrorism can use this information to assess the security risks they face and develop strategies to mitigate these risks.\n",
        "\n",
        "2. Government agencies and security organizations can use this data to allocate resources effectively and enhance counterterrorism efforts.\n",
        "\n",
        "## Negative Growth:\n",
        "\n",
        "1. The positive correlation between the number of attacks and the number of victims implies that an increase in terrorist attacks often leads to a higher number of casualties. This could have negative implications for businesses and regions experiencing such spikes.\n",
        "\n",
        "2. Negative growth may occur if a business operates in an area with a significant increase in terrorist attacks, as it may lead to higher security costs, operational disruptions, and potential harm to personnel and assets.\n",
        "\n",
        "In summary, the insights gained from the chart provide a historical perspective on terrorism trends. While they are crucial for understanding the security landscape, they also highlight the potential risks and challenges that businesses and organizations may face in regions affected by terrorism."
      ],
      "metadata": {
        "id": "R4Ka1PC2phqR"
      }
    },
    {
      "cell_type": "markdown",
      "source": [
        "#### Chart - 11 - Correlation Heatmap"
      ],
      "metadata": {
        "id": "NC_X3p0fY2L0"
      }
    },
    {
      "cell_type": "code",
      "source": [
        "# Correlation Heatmap visualization code\n",
        "plt.figure(figsize=(15,10))\n",
        "#this show how much related one perameter to the other in the data set\n",
        "sns.heatmap(np.round(df1.corr(),2),annot=True, cmap='BuPu')"
      ],
      "metadata": {
        "id": "xyC9zolEZNRQ"
      },
      "execution_count": null,
      "outputs": []
    },
    {
      "cell_type": "markdown",
      "source": [
        "##### 1. Why did you pick the specific chart?"
      ],
      "metadata": {
        "id": "UV0SzAkaZNRQ"
      }
    },
    {
      "cell_type": "markdown",
      "source": [
        "1. Correlation Exploration: A correlation heatmap is specifically designed to display the correlation coefficients between pairs of variables in a dataset.\n",
        "2. Numeric Data: Heatmaps are most suitable for datasets with numeric data, in a dataset like the Global Terrorism Database (GTD), where many numeric attributes are present.\n",
        "3. Annotated Values: The inclusion of annotated values within each cell of the heatmap provides precise correlation coefficients"
      ],
      "metadata": {
        "id": "DVPuT8LYZNRQ"
      }
    },
    {
      "cell_type": "markdown",
      "source": [
        "##### 2. What is/are the insight(s) found from the chart?"
      ],
      "metadata": {
        "id": "YPEH6qLeZNRQ"
      }
    },
    {
      "cell_type": "markdown",
      "source": [
        "Insights:\n",
        "\n",
        "1. Geographical Trends: The \"latitude\" and \"longitude\" variables show negative correlations with other variables, indicating that specific geographic coordinates may not be strongly correlated with attack-related factors.\n",
        "2. Fatalities and Injuries: The \"kill\" variable is positively correlated with the \"Wound\" (number of injuries) variable, indicating that when number of kill and increased then number of injured people increases\n",
        "3. Terrorist Kill and civilian kill- The kill variabel is positively correlated with the 'nkillter'(Terrorist killed) column which show that the when number of civilian killing increases then number of Terrorist kill also incrases"
      ],
      "metadata": {
        "id": "bfSqtnDqZNRR"
      }
    },
    {
      "cell_type": "markdown",
      "source": [
        "#### Chart - 12 - Pair Plot"
      ],
      "metadata": {
        "id": "q29F0dvdveiT"
      }
    },
    {
      "cell_type": "code",
      "source": [
        "# Pair Plot visualization code\n",
        "# Select the columns of interest for the pair plot\n",
        "columns_of_interest = [ 'kill','Wound','nkillter',]\n",
        "#Create a subset DataFrame with the selected columns\n",
        "subset_df = df1[columns_of_interest]\n",
        "\n",
        "# Create a pair plot using seaborn\n",
        "sns.pairplot(subset_df)\n",
        "plt.show()\n"
      ],
      "metadata": {
        "id": "o58-TEIhveiU"
      },
      "execution_count": null,
      "outputs": []
    },
    {
      "cell_type": "markdown",
      "source": [
        "##### 1. Why did you pick the specific chart?"
      ],
      "metadata": {
        "id": "EXh0U9oCveiU"
      }
    },
    {
      "cell_type": "markdown",
      "source": [
        "1. Pair plots are primarily used to gain insights into relationships between variables. They provide a visual representation of pairwise interactions, making it easier to identify patterns and correlations\n",
        "2. Multivariate Analysis: Pair plots are particularly useful when dealing with multiple variables (columns) in a dataset. it allow us to visualize how each variable relates to every other variable, providing a comprehensive view of data relationships."
      ],
      "metadata": {
        "id": "eMmPjTByveiU"
      }
    },
    {
      "cell_type": "markdown",
      "source": [
        "##### 2. What is/are the insight(s) found from the chart?"
      ],
      "metadata": {
        "id": "22aHeOlLveiV"
      }
    },
    {
      "cell_type": "markdown",
      "source": [
        "Insights.\n",
        "\n",
        "1. nkillter and kill-There is a digonally upward trend in these columnn which means the nkillter(Terrorist killed) and kill column are positivly correlated\n",
        "2. wound and kill - there is digonally little upword trend in these column which means the wound (injured) and the kill column has positivly correleted\n",
        "\n",
        "\n",
        "\n",
        "\n",
        "\n"
      ],
      "metadata": {
        "id": "uPQ8RGwHveiV"
      }
    },
    {
      "cell_type": "markdown",
      "source": [
        "## **5. Solution to Business Objective**"
      ],
      "metadata": {
        "id": "JcMwzZxoAimU"
      }
    },
    {
      "cell_type": "markdown",
      "source": [
        "#### What do you suggest the client to achieve Business Objective ?\n",
        "Explain Briefly."
      ],
      "metadata": {
        "id": "8G2x9gOozGDZ"
      }
    },
    {
      "cell_type": "markdown",
      "source": [
        "1. Geospatial Intelligence: Terrorism significantly increased in the Middle East and North Africa and South Asia regions from 2014 to 2017\n",
        "\n",
        "Solution: Invest in geospatial intelligence to monitor and analyze hotspots of terrorist activity in these regions. This will enable proactive responses and resource allocation.\n",
        "2. Targeted Threat Assessment: Private Citizens & Property are the most frequently targeted.\n",
        "\n",
        "Solution: Prioritize threat assessments for civilian areas, critical infrastructure, and public spaces to enhance security measures and protect civilians.\n",
        "3. Focus on Active Groups:Identify and monitor the most active terrorist groups, such as Taliban, ISIL, and Boko Haram.\n",
        "\n",
        "Solution: Allocate intelligence resources to track and disrupt the operations of these groups, dismantling their networks and preventing attacks.\n",
        "4. Weapon and Attack Type Analysis:Explosives and firearms are the most commonly used weapons in attacks.\n",
        "\n",
        "Solution: Enhance border security and implement stricter controls on firearms and explosives to reduce the availability of these weapons to terrorists.\n",
        "5. Cross-Agency Collaboration:\n",
        "\n",
        "Solution: Encourage collaboration and information sharing between national and international counter-terrorism agencies, promoting a coordinated response to global threats.\n",
        "6. Public Awareness:\n",
        "\n",
        "Solution: Educate the public about recognizing signs of radicalization and reporting suspicious activities to law enforcement."
      ],
      "metadata": {
        "id": "pASKb0qOza21"
      }
    },
    {
      "cell_type": "markdown",
      "source": [
        "# **Conclusion**"
      ],
      "metadata": {
        "id": "gCX9965dhzqZ"
      }
    },
    {
      "cell_type": "markdown",
      "source": [
        "1). We can see that terrorist activity has increased very rapidly after 2010.\n",
        "\n",
        "2). we can also see that middle east and north africa region is most effected by terror activity\n",
        "\n",
        "3).IN south Ashian region Iraq suffered a lot.\n",
        "\n",
        "4).most terrorist group was unknown means no one takes the responsibility\n",
        "\n",
        "5). Isil has killed the most people in the world\n",
        "\n",
        "6). most common attack metthod to killl people was explossion a bomb.\n",
        "\n",
        "7).More number of terrorist activity happend on private citizens andproperty to damage more.\n",
        "\n",
        "8). In 2014 number of terrorist Terrorist activity was highest in 2014, hence casualty is also highest."
      ],
      "metadata": {
        "id": "Fjb1IsQkh3yE"
      }
    },
    {
      "cell_type": "markdown",
      "source": [
        "### ***Hurrah! You have successfully completed your EDA Capstone Project !!!***"
      ],
      "metadata": {
        "id": "gIfDvo9L0UH2"
      }
    }
  ]
}